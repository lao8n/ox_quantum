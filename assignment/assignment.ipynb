version https://git-lfs.github.com/spec/v1
oid sha256:82acb2d9917285230340680ab315eac8df16cbd85977d8cf1022712c1aec4667
size 381869

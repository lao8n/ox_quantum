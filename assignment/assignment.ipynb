version https://git-lfs.github.com/spec/v1
oid sha256:af234a070ebf9e10016e6ae3029dae1d661e5c7aac5004de2f09ed16cf10c521
size 807938

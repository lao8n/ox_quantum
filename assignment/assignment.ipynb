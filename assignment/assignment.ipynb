version https://git-lfs.github.com/spec/v1
oid sha256:f03bf40086309c00b8a12bd5d86645f24e19e1018b42a606f28e07822d8b7199
size 446792

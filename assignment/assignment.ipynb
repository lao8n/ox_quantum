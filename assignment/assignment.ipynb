{
 "cells": [
  {
   "cell_type": "markdown",
   "id": "sapphire-pakistan",
   "metadata": {
    "slideshow": {
     "slide_type": ""
    }
   },
   "source": [
    "# Assignment"
   ]
  },
  {
   "cell_type": "markdown",
   "id": "363fe46c",
   "metadata": {},
   "source": [
    "## Task 1"
   ]
  },
  {
   "cell_type": "markdown",
   "id": "de559416",
   "metadata": {},
   "source": [
    "#### Mathematical motivation\n",
    "\n",
    "A matrix $A$'s, transformation can be represented by eigenvalues $\\lambda_i$, the scale of its distortion, and their corresponding eigenvectors $|\\psi_i\\rangle$, the orientation of that distortion. \n",
    "$$\n",
    "A|\\psi\\rangle = \\lambda_i|\\psi_i\\rangle\n",
    "$$\n",
    "Finding the minimum eigenvalue $\\lambda_{min}$ of a matrix is useful in many problems, such as in chemistry where the Hamiltonians, or energy dynamics, of a system can be represented by matrices and the minimum eigenvalue represents the ground state (minimum energy) $\\lambda_{gs}$ of the system.\n",
    "\n",
    "These Hamiltonians $H$ are real energy observables where \n",
    "$$\n",
    "|\\psi_t\\rangle = U(t)|\\psi_0\\rangle \n",
    "$$\n",
    "and $U(t)=e^{-itH}$ is a matrix exponential with some important properties\n",
    "1. $H$ has real eigenvalues justifying its use to represent the Hamiltonian observables ${^1}$\n",
    "2. $U$ is unitary with phases $e^{i\\theta}$ as eigenvalues ${^2}$\n",
    "3. The expected value (or probability) of the Hamiltonian $H$ on a state $|\\psi\\rangle$ is given by $\\langle H\\rangle_{\\psi}=\\langle\\psi|H|\\psi\\rangle$ ${^3}$\n",
    "\n",
    "#### Approaches to finding the minimum eigenvalue\n",
    "\n",
    "One approach is to calculate the $e^{i\\theta}$ eigenvalue directly with Quantum Phase Estimation (QPE) which involves using phase kickback to write the phase of $U$ in the Fourier basis and taking the inverse of the Quantum Fourier Transform (QFT) to get back something measurable. However, this requires circuit depths exceeding the hardware available in the Noisy intermediate-scale quantum (NISQ) era.\n",
    "\n",
    "Another alternative is to use Variational Quantum Eigensolvers (VQE) where we select an initial state (or ansatz) $|\\psi\\rangle$ to minimize the expected value of the Hamiltonian $\\langle H\\rangle_\\psi$, giving us an upper bound on the minimum eigenvalue $\\lambda_{min}$. To choose the ansatz some approaches such as Unitary Coupled Cluster (UCC) explore only a subspace of possible states, exploiting domain-specific quantum chemistry knowledge. However the problem, with these approaches is they they can be hard to compile and optimize for current quantum computers.\n",
    "\n",
    "The approach explored in the paper is to use VQE but with an ansatz chosen to explore the whole space of states (negating the need for chemistry knowledge) and optimized to be run on quantum hardware.\n",
    "\n",
    "#### Implementation steps\n",
    "1. Choose ansatz e.g. Hartree Fock State or vacuum state $|0\\rangle$\n",
    "2. Choose variational form UCCSD\n",
    "3. Choose parameter optimization e.g. gradient descent, SPSA, COBYLA"
   ]
  },
  {
   "cell_type": "markdown",
   "id": "549e2c9e",
   "metadata": {},
   "source": [
    "#### Mathematical Appendix\n",
    "\n",
    "1. $H$ Hamiltonian is hermitian which means that it is equal to its conjugate transpose $H=H^\\dagger$. By the spectral theorem $H$ has real eigenvalues justifying its use to represent the Hamiltonian observables.\n",
    "2. $U$ is unitary which means that its inverse is equal to its conjugate transpose $U^{-1}=U^\\dagger$. We prove this using the fact that $H$ is hermitian so that $U^\\dagger U = (e^{-itH})^{\\dagger} e^{-itH}= e^{itH^\\dagger}e^{-itH}=e^{itH}e^{-itH} = I$. Furthermore, the matrix exponential $U$ of $H$ is still a matrix by expansion of exponential as Taylor series but with the property that $U|\\psi\\rangle = e^{i\\theta}|\\psi\\rangle$ i.e. unitary matrices have phases $e^{i\\theta}$ as eigenvalues\n",
    "3. The expected value then provides an upper bound for the minimum eigenvalue $\\lambda_{min}\\leq \\langle H\\rangle_\\psi=\\langle\\psi|H|\\psi\\rangle$ because $H$ can be written as the weighted sum of its eigenvectors $H = \\sum_{i=1}^n \\lambda_i|\\psi_i\\rangle\\langle\\psi_i|$ which when substituting in gives $\\langle H\\rangle_\\psi = \\sum_{i=1}^n \\lambda_i|\\langle\\psi_i|\\psi\\rangle|^2$ where $|\\langle\\psi_i|\\psi\\rangle|^2\\geq 0$ giving an upper bound "
   ]
  },
  {
   "cell_type": "markdown",
   "id": "8d1b1d50",
   "metadata": {},
   "source": [
    "## Task 2"
   ]
  },
  {
   "cell_type": "markdown",
   "id": "b3af3001",
   "metadata": {},
   "source": [
    "##### Imports"
   ]
  },
  {
   "cell_type": "code",
   "execution_count": 3,
   "id": "simplified-benjamin",
   "metadata": {},
   "outputs": [],
   "source": [
    "%matplotlib inline\n",
    "from qiskit import QuantumCircuit\n",
    "from qiskit.circuit import Parameter\n",
    "from typing import Optional, List"
   ]
  },
  {
   "cell_type": "markdown",
   "id": "a4317fcc",
   "metadata": {},
   "source": [
    "##### Utility functions"
   ]
  },
  {
   "cell_type": "code",
   "execution_count": 4,
   "id": "8d1652dd",
   "metadata": {},
   "outputs": [],
   "source": [
    "# copied from lecture slides\n",
    "def make_params(fst: int, snd: Optional[int] = None, label: str = \"θ\") -> List[Parameter]:\n",
    "    start = 0 if snd is None else fst\n",
    "    end = fst if snd is None else snd\n",
    "    assert end >= start\n",
    "    return [Parameter(f\"{label}[{idx}]\") for idx in range(start, end)]"
   ]
  },
  {
   "cell_type": "code",
   "execution_count": 16,
   "id": "f2939096",
   "metadata": {},
   "outputs": [
    {
     "data": {
      "image/png": "[encoded data removed]",
      "text/plain": [
       "<Figure size 791.678x308.224 with 1 Axes>"
      ]
     },
     "execution_count": 16,
     "metadata": {},
     "output_type": "execute_result"
    }
   ],
   "source": [
    "def hardware_efficient_ansatz(depth):\n",
    "    num_qubits = 6\n",
    "    num_gates_per_euler_rot = 3\n",
    "    he_ansatz_num_params = num_qubits * num_gates_per_euler_rot * (depth + 1) \n",
    "    he_ansatz_params = make_params(he_ansatz_num_params)\n",
    "    he_ansatz = QuantumCircuit(num_qubits)\n",
    "    for q in range(num_qubits):\n",
    "        params_start = q * num_gates_per_euler_rot\n",
    "        params_stop = params_start + num_gates_per_euler_rot\n",
    "        euler_rotation(he_ansatz, q, he_ansatz_params[params_start: params_stop])\n",
    "    for d in range(depth):\n",
    "        entangler(he_ansatz)\n",
    "        for q in range(num_qubits):\n",
    "            params_start = num_gates_per_euler_rot * ((d + 1) * num_qubits + q)\n",
    "            params_stop = params_start + num_gates_per_euler_rot\n",
    "            euler_rotation(he_ansatz, q, he_ansatz_params[params_start: params_stop])\n",
    "    return he_ansatz\n",
    "\n",
    "def euler_rotation(quantum_circuit, qubit, params):\n",
    "    quantum_circuit.rz(params[0], qubit)\n",
    "    quantum_circuit.rx(params[1], qubit)\n",
    "    quantum_circuit.rz(params[2], qubit)\n",
    "\n",
    "def entangler(quantum_circuit):\n",
    "    quantum_circuit.cx([1, 3, 1, 0, 5], [0, 4, 3, 2, 4])\n",
    "\n",
    "hardware_efficient_ansatz(2).draw(\"mpl\", scale=0.8)\n",
    "\n"
   ]
  },
  {
   "cell_type": "markdown",
   "id": "d1d20b88",
   "metadata": {},
   "source": [
    "## Task 3"
   ]
  },
  {
   "cell_type": "code",
   "execution_count": null,
   "id": "imperial-rebecca",
   "metadata": {},
   "outputs": [],
   "source": []
  },
  {
   "cell_type": "code",
   "execution_count": null,
   "id": "renewable-drain",
   "metadata": {},
   "outputs": [],
   "source": []
  },
  {
   "cell_type": "code",
   "execution_count": null,
   "id": "instructional-wings",
   "metadata": {},
   "outputs": [],
   "source": []
  },
  {
   "cell_type": "code",
   "execution_count": null,
   "id": "hungarian-riverside",
   "metadata": {},
   "outputs": [],
   "source": []
  },
  {
   "cell_type": "code",
   "execution_count": null,
   "id": "accurate-observation",
   "metadata": {},
   "outputs": [],
   "source": []
  },
  {
   "cell_type": "code",
   "execution_count": null,
   "id": "critical-stable",
   "metadata": {},
   "outputs": [],
   "source": []
  },
  {
   "cell_type": "code",
   "execution_count": null,
   "id": "decent-voltage",
   "metadata": {},
   "outputs": [],
   "source": []
  },
  {
   "cell_type": "code",
   "execution_count": null,
   "id": "underlying-material",
   "metadata": {},
   "outputs": [],
   "source": []
  }
 ],
 "metadata": {
  "kernelspec": {
   "display_name": "Python 3 (ipykernel)",
   "language": "python",
   "name": "python3"
  },
  "language_info": {
   "codemirror_mode": {
    "name": "ipython",
    "version": 3
   },
   "file_extension": ".py",
   "mimetype": "text/x-python",
   "name": "python",
   "nbconvert_exporter": "python",
   "pygments_lexer": "ipython3",
   "version": "3.9.7"
  }
 },
 "nbformat": 4,
 "nbformat_minor": 5
}

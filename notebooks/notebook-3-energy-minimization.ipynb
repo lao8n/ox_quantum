version https://git-lfs.github.com/spec/v1
oid sha256:fbb314f558f2e398a58ed7e7a1901166677cb855c05eff5b8f21bd2ff69b7ddc
size 9505960

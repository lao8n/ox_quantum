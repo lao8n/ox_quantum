{
 "cells": [
  {
   "cell_type": "markdown",
   "id": "crude-snake",
   "metadata": {
    "slideshow": {
     "slide_type": "slide"
    }
   },
   "source": [
    "# D-Wave Quantum Annealers\n",
    "\n",
    "### Dr. Stefano Gogioso (University of Oxford)"
   ]
  },
  {
   "cell_type": "markdown",
   "id": "caring-think",
   "metadata": {
    "slideshow": {
     "slide_type": "slide"
    }
   },
   "source": [
    "## Quantum Annealers\n",
    "\n",
    "Quantum annealers, such as the [D-Wave quantum processing units (QPUs)](https://www.dwavesys.com/quantum-computing), provide a large scale alternative to gate-based quantum computing for combinatorial optimisation. When operating D-Wave QPUs, biases for qubits and their couplings are set, generating a suitable energy landscape for the specific combinatorial optimisation problem, and the (coupled) quantum system is then allowed to relax towards its ground energy state by following a (tunable) temperature annealing schedule."
   ]
  },
  {
   "cell_type": "markdown",
   "id": "quarterly-voltage",
   "metadata": {
    "slideshow": {
     "slide_type": "subslide"
    }
   },
   "source": [
    "Quantum annealers don't execute circuits: the biases for qubits and couplings are set at the beginning, and the system then evolves according to quantum theormodynamics as the annealing progresses. This makes quantum annealers much simpler to manufacture than gate-based quantum processors, leading to higher connectivity and vastly greater numbers of qubits (2048 in the standard D-Wave 2000Q QPU, up to 5760 in the D-Wave Advantage QPU)."
   ]
  },
  {
   "cell_type": "markdown",
   "id": "confused-blind",
   "metadata": {
    "slideshow": {
     "slide_type": "subslide"
    }
   },
   "source": [
    "Detail of a 20-node max-cut problem minor-embedded into the Chimera topology of the 2048-qubit D-Wave 2000Q QPU:"
   ]
  },
  {
   "cell_type": "markdown",
   "id": "brutal-footwear",
   "metadata": {
    "slideshow": {
     "slide_type": ""
    }
   },
   "source": [
    "<div align=\"center\">\n",
    "<img src=\"images/dwave_chimera_detail.jpg\" alt=\"\" width=\"80%\"/>\n",
    "</div>\n"
   ]
  },
  {
   "cell_type": "markdown",
   "id": "equivalent-diary",
   "metadata": {
    "slideshow": {
     "slide_type": "subslide"
    }
   },
   "source": [
    "Detail of a problem minor-embedded into the Pegasus topology of the 5760-qubit D-Wave Advantage QPU:"
   ]
  },
  {
   "cell_type": "markdown",
   "id": "distinct-grade",
   "metadata": {},
   "source": [
    "<div align=\"center\">\n",
    "<img src=\"images/dwave_pegasus_detail.jpg\" alt=\"\" width=\"80%\"/>\n",
    "</div>\n"
   ]
  },
  {
   "cell_type": "markdown",
   "id": "developmental-adelaide",
   "metadata": {
    "slideshow": {
     "slide_type": "slide"
    }
   },
   "source": [
    "## Ising Hamiltonians\n",
    "\n",
    "From a physical point of view, quantum annealers are $n$-qubit quantum systems governed by a (programmable) Ising Hamiltonian, i.e. one that can be expressed in terms of linear and quadratic Pauli Z terms:\n",
    "\n",
    "$$\n",
    "{H}(\\underline{h}, \\underline{J})\n",
    ":=\n",
    "\\sum_{i} h_i \\text{Z}_i + \\sum_{(i,j) \\in G} J_{ij} \\text{Z}_i\\text{Z}_j\n",
    "$$\n",
    "\n",
    "where $G$ is some graph and each nearest-neighbour pair $(i,j)$ is counted once (e.g. setting $i < j$ by convention). The $h_i$ coefficients are known as *biases* and the $J_{ij}$ coefficients are known as *couplings*. They are limited by physical considerations (e.g. $h_i \\in [-2, +2]$ and $J_{ij} \\in [-1, +1]$ for the 2000Q QPU)."
   ]
  },
  {
   "cell_type": "markdown",
   "id": "composed-foster",
   "metadata": {
    "slideshow": {
     "slide_type": "subslide"
    }
   },
   "source": [
    "On the computational basis state $|\\underline{b}\\rangle$, the energy of the system is given as follows:\n",
    "\n",
    "$$\n",
    "E_{\\underline{b}}(\\underline{h}, \\underline{J})\n",
    "=\n",
    "\\langle \\underline{b} | {H}(\\underline{h}, \\underline{J}) | \\underline{b} \\rangle\n",
    "=\n",
    "\\sum_{i} h_i s_i  + \\sum_{(i,j) \\in G} J_{ij} s_i s_j\n",
    "$$\n",
    "\n",
    "The values $s_i$ are above are the *spins*, the eigenvalues of the computational basis states $|b_i\\rangle$ for the $\\text{Z}_i$ observable:\n",
    "\n",
    "$$\n",
    "s_i\n",
    ":=\n",
    "\\langle \\underline{b} | \\text{Z}_i | \\underline{b} \\rangle\n",
    "=\n",
    "(-1)^{b_i}\n",
    "=\n",
    "\\begin{cases}\n",
    "+1 & \\text{ if } b_i = 0\\\\\n",
    "-1 & \\text{ if } b_i = 1\n",
    "\\end{cases}\n",
    "$$\n",
    "\n",
    "The task of finding bitstrings $\\underline{b}$ which minimize energies $E_{\\underline{b}}(\\underline{h}, \\underline{J})$ written in this form defines a large class of discrete optimization problems. If the allowed underlying graphs $G$ are sufficiently general (in particular, non-planar), NP-complete problems can be formulated this way (see e.g. [Statistical mechanics, three-dimensionality and NP-completeness](http://dx.doi.org/10.1145/335305.335316))."
   ]
  },
  {
   "cell_type": "markdown",
   "id": "competitive-yesterday",
   "metadata": {
    "slideshow": {
     "slide_type": "subslide"
    }
   },
   "source": [
    "On general states $|\\psi\\rangle$, the energy of the system is given as follows:\n",
    "\n",
    "$$\n",
    "E_{\\psi}(\\underline{h}, \\underline{J})\n",
    "=\n",
    "\\langle \\psi | {H}(\\underline{h}, \\underline{J}) | \\psi \\rangle\n",
    "$$\n",
    "\n",
    "At high temperature, the spins are allowed to fluctuate, exploring a large portion of the space of states. As the temperature is progressively reduced, the states with lower energy become increasingly favoured, with the system approaching a state of near-minimum energy towards the end of the annealing schedule. \n",
    "\n",
    "Because the computational basis states are eigenstates of Ising Hamiltonians, the states $|\\psi_0\\rangle$ of minimum energy for the quantum system are exactly all possible superpositions of computational basis states of minimum energy: measuring any such $|\\psi_0\\rangle$ in the computational basis then yields a solution to the discrete optimization problem.."
   ]
  },
  {
   "cell_type": "markdown",
   "id": "bored-agreement",
   "metadata": {
    "slideshow": {
     "slide_type": "subslide"
    }
   },
   "source": [
    "Non-zero biases $h_i$ make it more energetically favourable for the individual qubits to take one of the two spin values:\n",
    "\n",
    "- $h_i < 0$ favours $s_i = +1$ (because $h_i < -h_i$)\n",
    "- $h_i > 0$ favours $s_i = -1$ (because $-h_i < h_i$)\n",
    "\n",
    "Non-zero couplings $J_{ij}$ make it more energetically favourable for pairs of nearest-neighbour qubits to take aligned or anti-aligned spin values:\n",
    "\n",
    "- $J_{ij} < 0$ favours alignment $s_i s_j = +1$ (because $J_{ij} < -J_{ij}$)\n",
    "- $J_{ij} > 0$ favours anti-alignment $s_i s_j = -1$ (because $-J_{ij} < J_{ij}$)\n",
    "\n",
    "These effect compete against each other, with different relative strengths depending on the magnitue of the biases and couplings. The overall result is the complex energy landscape of a [spin glass](https://en.wikipedia.org/wiki/Spin_glass)."
   ]
  },
  {
   "cell_type": "markdown",
   "id": "french-photograph",
   "metadata": {
    "slideshow": {
     "slide_type": "slide"
    }
   },
   "source": [
    "## Minor-embedding\n",
    "\n",
    "Qubit topologies on D-Wave QPUs display significantly higher connectivity than those currently implemented by super-conducting gate-based quantum computers. The graph $G$ defining the Ising Hamiltonian must be embedded into the qubit topology, so that couplings between logical qubits in the Hamiltonian are mapped to couplings between nearest-neighbours physical qubits.\n",
    "\n",
    "It might also be necessary to re-scale all biases and couplings by a common factor to ensure that they fall withing the bias/coupling value ranges for the physical QPU. Care has to be taken when the biases/couplings in the Hamiltonian feature large relative differences: when re-scaling, some values might fall below the noise/precision thresholds for the physical QPU."
   ]
  },
  {
   "cell_type": "markdown",
   "id": "accomplished-pearl",
   "metadata": {
    "slideshow": {
     "slide_type": "subslide"
    }
   },
   "source": [
    "Below is an example where a cyclic graph $G$ on 4 nodes is embedded into the topology of a D-Wave 2000Q QPU:\n",
    "\n",
    "- biases $h_0 = 2$, $h_1 = -1$, $h_2 = -2$, $h_3 = 1$\n",
    "- couplings $J_{0,1} = 1$, $J_{1,2} = 2$, $J_{2,3} = -1$, $J_{3,0} = -2$\n",
    "\n",
    "A solution of minimum energy $-8$ is also displayed: $s_0 = +1$, $s_1 = s_2 = s_3 = -1$."
   ]
  },
  {
   "cell_type": "markdown",
   "id": "stopped-dependence",
   "metadata": {},
   "source": [
    "<div align=\"center\">\n",
    "<img src=\"images/dwave_embedding_cycle.jpg\" alt=\"\" width=\"80%\"/>\n",
    "\n",
    "</div>"
   ]
  },
  {
   "cell_type": "markdown",
   "id": "demanding-knife",
   "metadata": {
    "slideshow": {
     "slide_type": "subslide"
    }
   },
   "source": [
    "Below is a unit cell in the \\[16, 16, 4\\] Chimera topology of the D-Wave 2000Q QPU: a complete bipartite $K_{4,4}$ graph, partially connected to its 4 nearest neighbour. The full topology contains a 16x16 grid of cells, for a total of 2048 qubits. (A solution is displayed purely for cosmetic reasons.)"
   ]
  },
  {
   "cell_type": "markdown",
   "id": "weekly-russian",
   "metadata": {
    "slideshow": {
     "slide_type": ""
    }
   },
   "source": [
    "<div align=\"center\">\n",
    "<img src=\"images/dwave_chimera_topology.jpg\" alt=\"\" width=\"50%\"/>\n",
    "\n",
    "</div>"
   ]
  },
  {
   "cell_type": "markdown",
   "id": "understanding-screening",
   "metadata": {
    "slideshow": {
     "slide_type": "subslide"
    }
   },
   "source": [
    "The qubits in each $K_{4,4}$ cell are indexed as $128r + 8c + i$ for $i \\in \\{0,...,7\\}$. Each of the four horizonal qubits $i \\in \\{0,1,2,3\\}$ is connected to each of the four vertical qubit $i \\in \\{4,5,6,7\\}$ in the same cell. Each horizontal qubit $128r + 8c + i$ is connected to the corresponding horizontal qubit $128(r\\pm1) + 8c + i$ of the vertically neighbouring cells, while each vertical qubit $128r + 8c + i$ is connected to the corresponding vertical qubit $128r + 8(c\\pm1) + i$ of the horizontally neighbouring cells."
   ]
  },
  {
   "cell_type": "markdown",
   "id": "disciplinary-cabinet",
   "metadata": {
    "slideshow": {
     "slide_type": ""
    }
   },
   "source": [
    "<div align=\"center\">\n",
    "<img src=\"images/dwave_chimera_topology.jpg\" alt=\"\" width=\"50%\"/>\n",
    "\n",
    "</div>"
   ]
  },
  {
   "cell_type": "markdown",
   "id": "worth-oasis",
   "metadata": {
    "slideshow": {
     "slide_type": "subslide"
    }
   },
   "source": [
    "Below is the unit cell for the Pegasus topology of the D-Wave Advantage QPU. It resembles the unit $K_{4,4}$ cell of the Chimera topology, but with 4 additional couplers between pairs of corresponding outer-inner qubits (making it the 5-regular non-planar graph [$\\overline{2C_4}$](https://graphclasses.org/smallgraphs.html#g2C4), the complement of 2 disjoint 4-cycles). The topology contains around 700 such cells:"
   ]
  },
  {
   "cell_type": "markdown",
   "id": "express-trauma",
   "metadata": {
    "slideshow": {
     "slide_type": ""
    }
   },
   "source": [
    "<div align=\"center\">\n",
    "<img src=\"images/dwave_pegasus_topology_cell.jpg\" alt=\"\" width=\"40%\"/>\n",
    "\n",
    "</div>"
   ]
  },
  {
   "cell_type": "markdown",
   "id": "sweet-context",
   "metadata": {
    "slideshow": {
     "slide_type": "subslide"
    }
   },
   "source": [
    "Each cell in the Pegasus topology is connected to 10 neighbouring cells in the following way:"
   ]
  },
  {
   "cell_type": "markdown",
   "id": "greatest-compiler",
   "metadata": {
    "slideshow": {
     "slide_type": ""
    }
   },
   "source": [
    "<div align=\"center\">\n",
    "<img src=\"images/dwave_pegasus_topology.jpg\" alt=\"\" width=\"60%\"/>\n",
    "\n",
    "</div>"
   ]
  },
  {
   "cell_type": "markdown",
   "id": "retained-biodiversity",
   "metadata": {
    "slideshow": {
     "slide_type": "subslide"
    }
   },
   "source": [
    "I might not always be possible to embed the logical qubit graph $G$ into the physical qubit topology.\n",
    "Internal nodes in the Chimera topology have degree 6, so it is impossible to directly embed any graph with degree 7 or more into this topology, no matter how small."
   ]
  },
  {
   "cell_type": "markdown",
   "id": "supposed-relevance",
   "metadata": {},
   "source": [
    "<div align=\"center\">\n",
    "<img src=\"images/dwave_chimera_topology.jpg\" alt=\"\" width=\"50%\"/>\n",
    "\n",
    "</div>"
   ]
  },
  {
   "cell_type": "markdown",
   "id": "original-tender",
   "metadata": {
    "slideshow": {
     "slide_type": "subslide"
    }
   },
   "source": [
    "However, exact embedding is not actually necessary: it is enough to perform a *minor-embedding*. A minor-embedding is an embedding of the logical qubit graph $G$ into the physical qubit topology where each logical qubit is allowed to span multiple connected physical qubits, forming a so-called *chain*.\n",
    "\n",
    "The physical qubits in a chain are connected with a tree of sufficiently large negative couplings (defined by the *chain strength* parameter), making it very favourable for them to be aligned: solutions where all physical qubits take the same value are heavily favoured, and these will correspond to a well-defined value for the corresponding logical qubit. Sampled states with *broken chains*, i.e. ones where the physical qubits on a chain take different values, don't yield well-defined solutions to the discrete optimization problem.\n",
    "\n",
    "chain of physical qubits corresponding to a single logical qubit but not all taking the same value. Because the corresponding logical qubit value ill-defined, this does not represent a valid solution to the original problem.\n"
   ]
  },
  {
   "cell_type": "markdown",
   "id": "exposed-duplicate",
   "metadata": {
    "slideshow": {
     "slide_type": "subslide"
    }
   },
   "source": [
    "Below is an example of a star graph with degree 8 minor-embedded into the Chimera topology by sending the central logical qubit to a chain of two physical qubits (highlighted in pink):"
   ]
  },
  {
   "cell_type": "markdown",
   "id": "helpful-tobacco",
   "metadata": {},
   "source": [
    "<div align=\"center\">\n",
    "<img src=\"images/dwave_chain.jpg\" alt=\"\" width=\"80%\"/>\n",
    "\n",
    "</div>"
   ]
  },
  {
   "cell_type": "markdown",
   "id": "surface-effort",
   "metadata": {
    "slideshow": {
     "slide_type": "slide"
    }
   },
   "source": [
    "## A simple example\n",
    "\n",
    "We now give a step-by-step breakdown of the star graph example above.\n",
    "To start with, you must have the [Ocean SDK](https://support.dwavesys.com/hc/en-us/articles/360003718553-Install-the-Ocean-SDK-Locally) installed, as well as the [NetworkX library](https://networkx.org/):\n",
    "\n",
    "```\n",
    "pip install dwave-ocean-sdk && dwave setup\n",
    "pip install networkx\n",
    "```\n",
    "\n",
    "Alternatively, you can run the example in the online [Leap IDE](https://ide.dwavesys.io/workspaces/)."
   ]
  },
  {
   "cell_type": "code",
   "execution_count": 1,
   "id": "sticky-athletics",
   "metadata": {},
   "outputs": [],
   "source": [
    "import dwave.inspector # import enables data capture\n",
    "from dwave.system.samplers import DWaveSampler\n",
    "from dwave.system.composites import FixedEmbeddingComposite, EmbeddingComposite\n",
    "import networkx as nx"
   ]
  },
  {
   "cell_type": "markdown",
   "id": "occupied-bloom",
   "metadata": {
    "slideshow": {
     "slide_type": "subslide"
    }
   },
   "source": [
    "Using NetworkX, we create a star graph with nodes $0,...,8$ and having $8$ as its hub."
   ]
  },
  {
   "cell_type": "code",
   "execution_count": 2,
   "id": "unlimited-joining",
   "metadata": {},
   "outputs": [],
   "source": [
    "G = nx.Graph()\n",
    "G.add_edges_from((8, q) for q in range(8))"
   ]
  },
  {
   "cell_type": "markdown",
   "id": "finite-increase",
   "metadata": {
    "slideshow": {
     "slide_type": "subslide"
    }
   },
   "source": [
    "We specify a minor-embedding for the graph $G$ into the Chimera topology of the D-Wave 2000Q QPU. We send logical qubits $0,1,2,3$ to physical qubits $320, 321, 322,323$ (a horizontal line in a single cell), we send logical qubits $4,5,6,7$ to physical qubits $328, 329, 330, 331$ (a horizontal line in the next cell on the right), and we send the logical qubit $8$ to a chain of two physical qubits $324$ and $328$ (one in each of the two cells above)."
   ]
  },
  {
   "cell_type": "code",
   "execution_count": 3,
   "id": "familiar-wrestling",
   "metadata": {},
   "outputs": [],
   "source": [
    "embedding = {\n",
    "    **{q: {320+q} for q in range(4)},\n",
    "    **{q: {324+q} for q in range(4,8)},\n",
    "    8: {324, 332} # chain of 2 physical qubits\n",
    "}"
   ]
  },
  {
   "cell_type": "markdown",
   "id": "advised-paper",
   "metadata": {
    "slideshow": {
     "slide_type": "subslide"
    }
   },
   "source": [
    "We specify the biases $h$ and couplings $J$ for the Ising Hamiltonian."
   ]
  },
  {
   "cell_type": "code",
   "execution_count": 4,
   "id": "combined-pointer",
   "metadata": {},
   "outputs": [],
   "source": [
    "h = {i: 1-2*(i%2) for i in G.nodes} # biases\n",
    "J = {(i, j): 1-2*((i+j)%2) for (i,j) in G.edges} # couplings"
   ]
  },
  {
   "cell_type": "markdown",
   "id": "liberal-richmond",
   "metadata": {
    "slideshow": {
     "slide_type": "subslide"
    }
   },
   "source": [
    "We set parameters for the sampler: chain strenght (larger in absolute value than all couplings), number of samples, label. We select the D-Wave 2000Q QPU as sour sampler, and we specify a fix embedding for the problem.\n",
    "We then sample our Ising Hamiltonian and print the results:"
   ]
  },
  {
   "cell_type": "code",
   "execution_count": 5,
   "id": "proprietary-anaheim",
   "metadata": {},
   "outputs": [],
   "source": [
    "sampler_kwargs = {\n",
    "    \"chain_strength\": 8,\n",
    "    \"num_reads\": 10,\n",
    "    \"label\": \"Star Exaple\"\n",
    "}\n",
    "sampler = FixedEmbeddingComposite(DWaveSampler(solver=\"DW_2000Q_6\"),\n",
    "                                  embedding=embedding)\n",
    "response = sampler.sample_ising(h, J, **sampler_kwargs)"
   ]
  },
  {
   "cell_type": "markdown",
   "id": "polish-school",
   "metadata": {
    "slideshow": {
     "slide_type": "subslide"
    }
   },
   "source": [
    "The response object contains (amonst other things) the sampled solutions, their energies, how frequently they occurred (`num_oc.`). We can also visualize various data from the reponse using the [problem inspector](https://docs.ocean.dwavesys.com/projects/inspector/en/stable/index.html). "
   ]
  },
  {
   "cell_type": "code",
   "execution_count": 6,
   "id": "going-tunisia",
   "metadata": {},
   "outputs": [
    {
     "name": "stdout",
     "output_type": "stream",
     "text": [
      "   0  1  2  3  4  5  6  7  8 energy num_oc. chain_.\n",
      "0 -1 +1 -1 +1 -1 +1 -1 +1 +1  -15.0      10     0.0\n",
      "['SPIN', 1 rows, 10 samples, 9 variables]\n"
     ]
    }
   ],
   "source": [
    "print(response)\n",
    "# dwave.inspector.show(response)"
   ]
  },
  {
   "cell_type": "markdown",
   "id": "experienced-chicken",
   "metadata": {
    "slideshow": {
     "slide_type": "slide"
    }
   },
   "source": [
    "## QUBOs\n",
    "\n",
    "The discrete optimisation problems defined by Ising Hamiltonians require problems to be formulated in terms of spin values $s_i = \\pm1$. However, many discrete optimization problems are more naturally formulated in terms of binary values $b_i = 0,1$: this equivalent formulation is known as QUBO (Quadratic Unconstrained Binary Optimization)."
   ]
  },
  {
   "cell_type": "markdown",
   "id": "married-requirement",
   "metadata": {
    "slideshow": {
     "slide_type": "subslide"
    }
   },
   "source": [
    "The translation from Ising to QUBO is done by setting $b_i := \\frac{1-s_i}{2}$, so that $s_i = 1-2b_i$:\n",
    "\n",
    "$$\n",
    "\\begin{align*}\n",
    "&\\sum_{i} h_i s_i  + \\sum_{(i,j) \\in G} J_{ij} s_i s_j\n",
    "\\\\\n",
    "=&\n",
    "\\sum_{i} h_i (1-2b_i)  + \\sum_{(i,j) \\in G} J_{ij} (1-2b_i)(1-2b_j)\n",
    "\\\\\n",
    "=&\n",
    "\\sum_{i}(-2)\\left(h_i + \\sum_{(i,j) \\in G} J_{ij} + \\sum_{(j,i) \\in G} J_{ji} \\right) b_i\n",
    "+\n",
    "\\sum_{(i,j) \\in G} 4J_{ij} b_i b_j\n",
    "+\n",
    "\\text{const.}\n",
    "\\end{align*}\n",
    "$$\n",
    "\n",
    "The constant term can be dropped, because optimization is a relative process. "
   ]
  },
  {
   "cell_type": "markdown",
   "id": "floating-combat",
   "metadata": {
    "slideshow": {
     "slide_type": "subslide"
    }
   },
   "source": [
    "Because $b_i = 0,1 $, we have that $b_i = b_i b_i$, so that a QUBO can be formulated in terms of a single matrix $Q$:\n",
    "\n",
    "$$\n",
    "\\begin{align*}\n",
    "\\underline{b}^T Q \\underline{b}\n",
    "&=\n",
    "\\sum_{i} Q_{ii} b_ib_i\n",
    "+\n",
    "\\sum_{(i,j) \\in G} Q_{ij} b_i b_j\n",
    "\\\\\n",
    "&=\n",
    "\\sum_{i} Q_{ii} b_i\n",
    "+\n",
    "\\sum_{(i,j) \\in G} Q_{ij} b_i b_j\n",
    "\\end{align*}\n",
    "$$\n",
    "\n",
    "where again each undirected edge $(i,j) \\in G$ is counted only once (e.g. by forcing $Q$ to be upper-triangular)."
   ]
  },
  {
   "cell_type": "markdown",
   "id": "brutal-boston",
   "metadata": {
    "slideshow": {
     "slide_type": "subslide"
    }
   },
   "source": [
    "Conversely, we can always turn a QUBO problem into an Ising problem:\n",
    "\n",
    "$$\n",
    "\\begin{align*}\n",
    "&\n",
    "\\sum_{i} Q_{ii} b_i\n",
    "+\n",
    "\\sum_{(i,j) \\in G} Q_{ij} b_i b_j\n",
    "\\\\\n",
    "=&\n",
    "\\sum_{i} Q_{ii} \\frac{1-s_i}{2}\n",
    "+\n",
    "\\sum_{(i,j) \\in G} Q_{ij} \\frac{1-s_i}{2}\\frac{1-s_j}{2}\n",
    "\\\\\n",
    "=&\n",
    "\\sum_{i} (-\\frac{1}{2})\\left(Q_{ii} + \\sum_{(i,j) \\in G} Q_{ij} + \\sum_{(j,i) \\in G} Q_{ji} \\right) s_i\n",
    "+\n",
    "\\sum_{(i,j) \\in G} \\frac{1}{4}Q_{ij} s_is_j\n",
    "+\n",
    "\\text{const.}\n",
    "\\end{align*}\n",
    "$$\n",
    "\n",
    "The constant term can again be dropped, because optimization is a relative process. "
   ]
  },
  {
   "cell_type": "markdown",
   "id": "rolled-relay",
   "metadata": {
    "slideshow": {
     "slide_type": "slide"
    }
   },
   "source": [
    "## Max-cut on D-Wave QPUs\n",
    "\n",
    "Using NetworkX, we create a graph object from the edges of the max-cut example we explored earlier for QAOA:"
   ]
  },
  {
   "cell_type": "code",
   "execution_count": 7,
   "id": "prescription-probe",
   "metadata": {},
   "outputs": [],
   "source": [
    "edges = [{0, 1}, {0, 3}, {1, 2}, {2, 3}]\n",
    "G = nx.Graph()\n",
    "G.add_edges_from(edges)"
   ]
  },
  {
   "cell_type": "markdown",
   "id": "endless-simon",
   "metadata": {
    "slideshow": {
     "slide_type": "subslide"
    }
   },
   "source": [
    "We create the QUBO for max-cut. For each edge $\\alpha = \\{i,j\\}$ in the graph, the corresponding constraint $C_\\alpha(\\underline{b})$ takes the following form: \n",
    "\n",
    "$$\n",
    "C_\\alpha(\\underline{b})\n",
    "=\n",
    "b_i \\oplus b_j\n",
    "=\n",
    "b_i + b_j - 2b_ib_j\n",
    "$$\n",
    "\n",
    "Because we want to maximise the number of violated constraints, we take $-C_\\alpha(\\underline{b})$ as the contributing term for the qubo, which is then written as the following quadratic polynomial in $b_0,...,b_{n-1}$:\n",
    "\n",
    "$$\n",
    "Q(\\underline{b})\n",
    "=\n",
    "\\sum_{\\{i,j\\} \\in G}\n",
    "\\big(2b_ib_j - b_i - b_j\\big)\n",
    "$$"
   ]
  },
  {
   "cell_type": "code",
   "execution_count": 8,
   "id": "minimal-assault",
   "metadata": {},
   "outputs": [],
   "source": [
    "from collections import defaultdict\n",
    "Q = defaultdict(int)\n",
    "for i, j in G.edges:\n",
    "    Q[(i,i)]+= -1\n",
    "    Q[(j,j)]+= -1\n",
    "    Q[(i,j)]+= 2"
   ]
  },
  {
   "cell_type": "markdown",
   "id": "favorite-house",
   "metadata": {
    "slideshow": {
     "slide_type": "subslide"
    }
   },
   "source": [
    "With the QUBO formulation done, we are ready to submit our problem to the quantum annealer (a D-Wave 2000Q lower-noise system). We sample the problem 50 times and set a chain strength of 8 (more later)."
   ]
  },
  {
   "cell_type": "code",
   "execution_count": 9,
   "id": "legislative-semester",
   "metadata": {},
   "outputs": [],
   "source": [
    "sampler_kwargs = {\n",
    "    \"chain_strength\": 8,\n",
    "    \"num_reads\": 50,\n",
    "    \"label\": \"Max-Cut 4 nodes\"\n",
    "}\n",
    "sampler = EmbeddingComposite(DWaveSampler({\"qpu\": True}))\n",
    "response = sampler.sample_qubo(Q, **sampler_kwargs)\n",
    "# dwave.inspector.show(response)"
   ]
  },
  {
   "cell_type": "markdown",
   "id": "weird-father",
   "metadata": {
    "slideshow": {
     "slide_type": "subslide"
    }
   },
   "source": [
    "Below is the response, showing a minimum energy of -4 (corresponding to a max cut of 4):"
   ]
  },
  {
   "cell_type": "code",
   "execution_count": 10,
   "id": "virgin-maker",
   "metadata": {},
   "outputs": [
    {
     "name": "stdout",
     "output_type": "stream",
     "text": [
      "   0  1  2  3 energy num_oc. chain_.\n",
      "0  0  1  0  1   -4.0      46     0.0\n",
      "1  1  0  1  0   -4.0       4     0.0\n",
      "['BINARY', 2 rows, 50 samples, 4 variables]\n"
     ]
    }
   ],
   "source": [
    "print(response)"
   ]
  },
  {
   "cell_type": "markdown",
   "id": "about-tobacco",
   "metadata": {
    "slideshow": {
     "slide_type": ""
    }
   },
   "source": [
    "The next few slides show snapshots of the problem inspector, obtained running the following line of code:\n",
    "\n",
    "```py\n",
    "dwave.inspector.show(response)\n",
    "```"
   ]
  },
  {
   "cell_type": "markdown",
   "id": "national-potato",
   "metadata": {
    "slideshow": {
     "slide_type": "subslide"
    }
   },
   "source": [
    "On the left is the graph with solution marked in QUBO format (binary values). On the right is the graph embedded into the topology of the D-Wave 2000Q annealer (in Ising format):"
   ]
  },
  {
   "cell_type": "markdown",
   "id": "varied-discount",
   "metadata": {
    "slideshow": {
     "slide_type": ""
    }
   },
   "source": [
    "<div align=\"center\">\n",
    "<img src=\"images/dwave_maxcut_4_qubo.jpg\" alt=\"\" width=\"70%\"/>\n",
    "\n",
    "</div>"
   ]
  },
  {
   "cell_type": "markdown",
   "id": "jewish-aggregate",
   "metadata": {
    "slideshow": {
     "slide_type": "subslide"
    }
   },
   "source": [
    "On the left is the graph with solution marked in Ising format (spin values). On the right is the graph embedded into the topology of the D-Wave 2000Q annealer (in Ising format as well):"
   ]
  },
  {
   "cell_type": "markdown",
   "id": "characteristic-space",
   "metadata": {},
   "source": [
    "\n",
    "<div align=\"center\">\n",
    "<img src=\"images/dwave_maxcut_4_ising.jpg\" alt=\"\" width=\"70%\"/>\n",
    "\n",
    "</div>\n"
   ]
  },
  {
   "cell_type": "markdown",
   "id": "rental-sector",
   "metadata": {
    "slideshow": {
     "slide_type": "subslide"
    }
   },
   "source": [
    "Below is max-cut on a 20 node random graph (edges sampled independently with $12\\%$ probability)."
   ]
  },
  {
   "cell_type": "code",
   "execution_count": 16,
   "id": "unnecessary-george",
   "metadata": {},
   "outputs": [],
   "source": [
    "G = nx.fast_gnp_random_graph(20, 0.12)\n",
    "Q = defaultdict(int)\n",
    "for i, j in G.edges:\n",
    "    Q[(i,i)]+= -1\n",
    "    Q[(j,j)]+= -1\n",
    "    Q[(i,j)]+= 2\n",
    "sampler_kwargs = {\n",
    "    \"chain_strength\": 8,\n",
    "    \"num_reads\": 200,\n",
    "    \"label\": \"Max-Cut 20 nodes\"\n",
    "}\n",
    "# sampler = EmbeddingComposite(DWaveSampler({\"qpu\": True}))\n",
    "sampler = EmbeddingComposite(DWaveSampler(solver=\"DW_2000Q_6\"))\n",
    "response = sampler.sample_qubo(Q, **sampler_kwargs)\n",
    "# dwave.inspector.show(response)"
   ]
  },
  {
   "cell_type": "markdown",
   "id": "meaning-trout",
   "metadata": {
    "slideshow": {
     "slide_type": "subslide"
    }
   },
   "source": [
    "On the left, a logical qubit (a node in the graph) is highlighted, together with neighbours. On the right, the corresponding physical qubit is highlighted, together with its neighbours."
   ]
  },
  {
   "cell_type": "markdown",
   "id": "insured-holiday",
   "metadata": {},
   "source": [
    "<div align=\"center\">\n",
    "<img src=\"images/dwave_maxcut_20_qubit.jpg\" alt=\"\" width=\"100%\"/>\n",
    "\n",
    "</div>"
   ]
  },
  {
   "cell_type": "markdown",
   "id": "adapted-giving",
   "metadata": {
    "slideshow": {
     "slide_type": "subslide"
    }
   },
   "source": [
    "Below, we see an implementation of a logical qubit (highlighted on the left) using a chain of physical qubits (highlighted on the right) connected by negative couplings (negative of the chain strength), which make it energetically favourable for them to take the same value (yielding a well-defined value for the associated logical qubit)."
   ]
  },
  {
   "cell_type": "markdown",
   "id": "studied-blackberry",
   "metadata": {},
   "source": [
    "<div align=\"center\">\n",
    "<img src=\"images/dwave_maxcut_20_logical_qubit.jpg\" alt=\"\" width=\"100%\"/>\n",
    "\n",
    "</div>"
   ]
  },
  {
   "cell_type": "markdown",
   "id": "egyptian-flood",
   "metadata": {
    "slideshow": {
     "slide_type": "subslide"
    }
   },
   "source": [
    "Below is max-cut on a 100 node random graph (edges sampled independently with $10\\%$ probability)."
   ]
  },
  {
   "cell_type": "code",
   "execution_count": null,
   "id": "functioning-temperature",
   "metadata": {},
   "outputs": [],
   "source": [
    "G = nx.fast_gnp_random_graph(100, 0.12)\n",
    "Q = defaultdict(int)\n",
    "for i, j in G.edges:\n",
    "    Q[(i,i)]+= -1\n",
    "    Q[(j,j)]+= -1\n",
    "    Q[(i,j)]+= 2\n",
    "sampler_kwargs = {\n",
    "    \"chain_strength\": 8,\n",
    "    \"num_reads\": 50,\n",
    "    \"label\": \"Max-Cut 20 nodes\"\n",
    "}\n",
    "# sampler = EmbeddingComposite(DWaveSampler({\"qpu\": True}))\n",
    "sampler = EmbeddingComposite(DWaveSampler(solver=\"DW_2000Q_6\"))\n",
    "response = sampler.sample_qubo(Q, **sampler_kwargs)\n",
    "# dwave.inspector.show(response)"
   ]
  },
  {
   "cell_type": "markdown",
   "id": "accessible-desert",
   "metadata": {
    "slideshow": {
     "slide_type": "subslide"
    }
   },
   "source": [
    "Below is max-cut on a 100 node random graph ($p_{edge}=10\\%$). On the left, a couple of logical qubits are highlighted (one yellow, one white). On the right, the corresponding chains of physical qubits are highlighted (one blue, one white)."
   ]
  },
  {
   "cell_type": "markdown",
   "id": "sonic-identifier",
   "metadata": {},
   "source": [
    "<div align=\"center\">\n",
    "<img src=\"images/dwave_maxcut_100.jpg\" alt=\"\" width=\"100%\"/>\n",
    "\n",
    "</div>"
   ]
  },
  {
   "cell_type": "markdown",
   "id": "applied-remedy",
   "metadata": {
    "slideshow": {
     "slide_type": "subslide"
    }
   },
   "source": [
    "Below, an especially long chain is highlighted."
   ]
  },
  {
   "cell_type": "markdown",
   "id": "intimate-jewelry",
   "metadata": {
    "slideshow": {
     "slide_type": ""
    }
   },
   "source": [
    "<div align=\"center\">\n",
    "<img src=\"images/dwave_maxcut_100_logical_qubit.jpg\" alt=\"\" width=\"100%\"/>\n",
    "\n",
    "</div>"
   ]
  },
  {
   "cell_type": "markdown",
   "id": "southwest-cleaner",
   "metadata": {
    "slideshow": {
     "slide_type": "subslide"
    }
   },
   "source": [
    "Below we observe a *broken chain*: a chain of physical qubits corresponding to a single logical qubit but not all taking the same value. Because the corresponding logical qubit value ill-defined, this does not represent a valid solution to the original problem. In the example below, the qubits on the right of the chain are white (-1), while the qubits on the left are blue (+1)"
   ]
  },
  {
   "cell_type": "markdown",
   "id": "authentic-hindu",
   "metadata": {
    "slideshow": {
     "slide_type": ""
    }
   },
   "source": [
    "<div align=\"center\">\n",
    "<img src=\"images/dwave_maxcut_100_broken_chain.jpg\" alt=\"\" width=\"100%\"/>\n",
    "\n",
    "</div>"
   ]
  },
  {
   "cell_type": "markdown",
   "id": "selective-characterization",
   "metadata": {
    "slideshow": {
     "slide_type": "subslide"
    }
   },
   "source": [
    "Below is max-cut on a 1000 node random graph (edge sampled independently with $0.272\\%$ probability), running on the 5760-qubit Advantage QPU:"
   ]
  },
  {
   "cell_type": "code",
   "execution_count": null,
   "id": "institutional-commerce",
   "metadata": {},
   "outputs": [],
   "source": [
    "G = nx.fast_gnp_random_graph(1000, 0.00272)\n",
    "Q = defaultdict(int)\n",
    "for i, j in G.edges:\n",
    "    Q[(i,i)]+= -1\n",
    "    Q[(j,j)]+= -1\n",
    "    Q[(i,j)]+= 2\n",
    "sampler_kwargs = {\n",
    "    \"chain_strength\": 8,\n",
    "    \"num_reads\": 50,\n",
    "    \"label\": \"Max-Cut 1000 nodes\"\n",
    "}\n",
    "sampler = EmbeddingComposite(DWaveSampler(solver=\"Advantage_system4.1\"))\n",
    "response = sampler.sample_qubo(Q, **sampler_kwargs)\n",
    "# dwave.inspector.show(response)"
   ]
  },
  {
   "cell_type": "markdown",
   "id": "patent-worse",
   "metadata": {
    "slideshow": {
     "slide_type": "subslide"
    }
   },
   "source": [
    "The histogram of sample energies, with the best solution highlighted (cut of size 932)."
   ]
  },
  {
   "cell_type": "markdown",
   "id": "successful-chuck",
   "metadata": {
    "slideshow": {
     "slide_type": ""
    }
   },
   "source": [
    "<div align=\"center\">\n",
    "<img src=\"images/dwave_maxcut_1000_hist.jpg\" alt=\"\" width=\"100%\"/>\n",
    "\n",
    "</div>"
   ]
  },
  {
   "cell_type": "markdown",
   "id": "applicable-taste",
   "metadata": {
    "slideshow": {
     "slide_type": "subslide"
    }
   },
   "source": [
    "Problem graph and minor embedding into Advantage QPU's Pegasus topology: "
   ]
  },
  {
   "cell_type": "markdown",
   "id": "occasional-singing",
   "metadata": {
    "slideshow": {
     "slide_type": ""
    }
   },
   "source": [
    "<div align=\"center\">\n",
    "<img src=\"images/dwave_maxcut_1000.jpg\" alt=\"\" width=\"100%\"/>\n",
    "\n",
    "</div>"
   ]
  },
  {
   "cell_type": "markdown",
   "id": "subjective-joshua",
   "metadata": {
    "slideshow": {
     "slide_type": "slide"
    }
   },
   "source": [
    "## Reference code for topology pictures"
   ]
  },
  {
   "cell_type": "markdown",
   "id": "aggregate-theology",
   "metadata": {
    "slideshow": {
     "slide_type": "subslide"
    }
   },
   "source": [
    "For reference, the Chimera topology picture was generated with the following code:\n",
    "\n",
    "```py\n",
    "import dwave.inspector # import enables data capture\n",
    "from dwave.system.samplers import DWaveSampler\n",
    "from dwave.system.composites import FixedEmbeddingComposite\n",
    "import networkx as nx\n",
    "G = nx.Graph()\n",
    "G.add_edges_from([(i, 4+j) for i in range(0, 4) for j in range(0, 4)])\n",
    "G.add_edges_from([(i, i-8) for i in range(4, 8)])\n",
    "G.add_edges_from([(i, i+8) for i in range(4, 8)])\n",
    "G.add_edges_from([(i, i-128) for i in range(0, 4)])\n",
    "G.add_edges_from([(i, i+128) for i in range(0, 4)])\n",
    "embedding = {i: {1024+64+i} for i in G.nodes}\n",
    "Q = defaultdict(int)\n",
    "for i, j in G.edges:\n",
    "    Q[(i,i)]+= -1\n",
    "    Q[(j,j)]+= -1\n",
    "    Q[(i,j)]+= 2\n",
    "sampler_kwargs = {\n",
    "    \"chain_strength\": 8,\n",
    "    \"num_reads\": 1,\n",
    "    \"label\": \"Chimera topology\"\n",
    "}\n",
    "sampler = FixedEmbeddingComposite(DWaveSampler(solver=\"DW_2000Q_6\"),\n",
    "                                  embedding=embedding)\n",
    "response = sampler.sample_qubo(Q, **sampler_kwargs)\n",
    "dwave.inspector.show(response)  \n",
    "```"
   ]
  },
  {
   "cell_type": "markdown",
   "id": "tamil-interaction",
   "metadata": {
    "slideshow": {
     "slide_type": "subslide"
    }
   },
   "source": [
    "For reference, the Pegasus topology picture was generated with the following code:\n",
    "\n",
    "```py\n",
    "import dwave.inspector # import enables data capture\n",
    "from dwave.system.samplers import DWaveSampler\n",
    "from dwave.system.composites import FixedEmbeddingComposite\n",
    "import networkx as nx\n",
    "G = nx.Graph()\n",
    "h = [972, 987, 1002, 1017]\n",
    "v = [5285, 5300, 5315, 5330]\n",
    "h_tr = [a+60 for a in h]\n",
    "v_tr = [b-60 for b in v]\n",
    "h_ttl = [a-60 for a in h]\n",
    "v_brr = [b+60 for b in v]\n",
    "v_tll = [b-1 for b in v_tr]\n",
    "h_bl = [a+1 for a in h_ttl]\n",
    "v_bl = [b-1 for b in v_brr]\n",
    "h_bbr = [a+1 for a in h_tr]\n",
    "v_bbr = [b+61 for b in v_bl]\n",
    "v_ttl = [b-61 for b in v_tr]\n",
    "h_brr = [a+61 for a in h_tr]\n",
    "h_tll = [a-61 for a in h_bl]\n",
    "## In-cell edges\n",
    "G.add_edges_from([(a, a+15) for a in h[::2]])\n",
    "G.add_edges_from([(b, b+15) for b in v[::2]])\n",
    "G.add_edges_from([(a, b) for a in h for b in v])\n",
    "## Cross-cells edges\n",
    "G.add_edges_from([(a, a+1) for a in h])\n",
    "G.add_edges_from([(b, b+1) for b in v])\n",
    "G.add_edges_from([(a, a-1) for a in h])\n",
    "G.add_edges_from([(b, b-1) for b in v])\n",
    "G.add_edges_from([\n",
    "    (a, b) for b in v_ttl[2:]+v_tll+v_bl[:2] for a in h[:2]\n",
    "])\n",
    "G.add_edges_from([\n",
    "    (a, b) for b in v_ttl[2:]+v_tr+v_bl[:2] for a in h[2:]\n",
    "])\n",
    "G.add_edges_from([\n",
    "    (a, b) for a in h_bl[2:]+h_tr+h_brr[:2] for b in v[:2]\n",
    "])\n",
    "G.add_edges_from([\n",
    "    (a, b) for a in h_bl[2:]+h_bbr+h_brr[:2] for b in v[2:]\n",
    "])\n",
    "\n",
    "embedding = {\n",
    "    i: {i}\n",
    "    for i in G.nodes\n",
    "}\n",
    "\n",
    "Q = defaultdict(int)\n",
    "for i, j in G.edges:\n",
    "    Q[(i,i)]+= -1\n",
    "    Q[(j,j)]+= -1\n",
    "    Q[(i,j)]+= 2\n",
    "\n",
    "sampler_kwargs = {\n",
    "    \"chain_strength\": 8,\n",
    "    \"num_reads\": 2,\n",
    "    \"label\": \"Pegasus Topology\"\n",
    "}\n",
    "sampler = FixedEmbeddingComposite(DWaveSampler(solver=\"Advantage_system4.1\"),\n",
    "                                  embedding=embedding)\n",
    "response = sampler.sample_qubo(Q, **sampler_kwargs)\n",
    "dwave.inspector.show(response)  \n",
    "```"
   ]
  }
 ],
 "metadata": {
  "celltoolbar": "Slideshow",
  "kernelspec": {
   "display_name": "Python 3",
   "language": "python",
   "name": "python3"
  },
  "language_info": {
   "codemirror_mode": {
    "name": "ipython",
    "version": 3
   },
   "file_extension": ".py",
   "mimetype": "text/x-python",
   "name": "python",
   "nbconvert_exporter": "python",
   "pygments_lexer": "ipython3",
   "version": "3.9.7"
  }
 },
 "nbformat": 4,
 "nbformat_minor": 5
}
